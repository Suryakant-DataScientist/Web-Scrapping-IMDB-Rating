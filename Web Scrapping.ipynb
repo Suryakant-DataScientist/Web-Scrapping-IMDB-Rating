{
 "cells": [
  {
   "cell_type": "markdown",
   "id": "4e059240",
   "metadata": {},
   "source": [
    "## Web Scrapping"
   ]
  },
  {
   "cell_type": "markdown",
   "id": "66b8835f",
   "metadata": {},
   "source": [
    "### Step 0: \n",
    "#### Install all the requirements:\n",
    "1. Pip install requests\n",
    "2. Pip install bs4\n",
    "3. Pip install html5lib"
   ]
  },
  {
   "cell_type": "code",
   "execution_count": 1,
   "id": "416984b1",
   "metadata": {},
   "outputs": [],
   "source": [
    "import requests"
   ]
  },
  {
   "cell_type": "code",
   "execution_count": 2,
   "id": "07c6d8bf",
   "metadata": {},
   "outputs": [],
   "source": [
    "from bs4 import BeautifulSoup"
   ]
  },
  {
   "cell_type": "code",
   "execution_count": 4,
   "id": "d4f586f2",
   "metadata": {},
   "outputs": [],
   "source": [
    "url = \"https://codewithharry.com/\""
   ]
  },
  {
   "cell_type": "code",
   "execution_count": 3,
   "id": "b0f1d548",
   "metadata": {},
   "outputs": [],
   "source": [
    "web = \"https://www.cricbuzz.com/\""
   ]
  },
  {
   "cell_type": "markdown",
   "id": "beda5897",
   "metadata": {},
   "source": [
    "#### Step 1: Get the HTML\n"
   ]
  },
  {
   "cell_type": "code",
   "execution_count": 5,
   "id": "322bd40e",
   "metadata": {},
   "outputs": [],
   "source": [
    "r = requests.get(url)"
   ]
  },
  {
   "cell_type": "code",
   "execution_count": 10,
   "id": "edae3a19",
   "metadata": {},
   "outputs": [],
   "source": [
    "w = requests.get(web)"
   ]
  },
  {
   "cell_type": "code",
   "execution_count": 6,
   "id": "b888202e",
   "metadata": {},
   "outputs": [],
   "source": [
    "htmlcontent = r.content"
   ]
  },
  {
   "cell_type": "code",
   "execution_count": 17,
   "id": "5ba0d0cd",
   "metadata": {},
   "outputs": [],
   "source": [
    "#print(htmlcontent)"
   ]
  },
  {
   "cell_type": "code",
   "execution_count": 11,
   "id": "551d40fb",
   "metadata": {},
   "outputs": [],
   "source": [
    "webcontent = w.content"
   ]
  },
  {
   "cell_type": "code",
   "execution_count": 13,
   "id": "8668b77c",
   "metadata": {},
   "outputs": [],
   "source": [
    "#print(webcontent)"
   ]
  },
  {
   "cell_type": "markdown",
   "id": "453fb355",
   "metadata": {},
   "source": [
    "#### Step 2: Parse the HTML"
   ]
  },
  {
   "cell_type": "code",
   "execution_count": 42,
   "id": "d58e2c0c",
   "metadata": {},
   "outputs": [],
   "source": [
    "soup = BeautifulSoup(htmlcontent,'html.parser')\n",
    "#print(soup.prettify)"
   ]
  },
  {
   "cell_type": "code",
   "execution_count": 40,
   "id": "d9fa53d8",
   "metadata": {},
   "outputs": [],
   "source": [
    "check_soup = BeautifulSoup(webcontent)"
   ]
  },
  {
   "cell_type": "code",
   "execution_count": 41,
   "id": "dbff1260",
   "metadata": {},
   "outputs": [
    {
     "name": "stdout",
     "output_type": "stream",
     "text": [
      "None\n"
     ]
    }
   ],
   "source": [
    "print(check_soup.webcontent)"
   ]
  },
  {
   "cell_type": "markdown",
   "id": "e0a62538",
   "metadata": {},
   "source": [
    "#### Step 3: HTML Tree Traversal\n",
    "\n",
    "Get the title of the HTML page"
   ]
  },
  {
   "cell_type": "code",
   "execution_count": 12,
   "id": "eee97580",
   "metadata": {},
   "outputs": [
    {
     "name": "stdout",
     "output_type": "stream",
     "text": [
      "<title>Learn to code online - CodeWithHarry</title>\n"
     ]
    }
   ],
   "source": [
    "title = soup.title\n",
    "print(title)"
   ]
  },
  {
   "cell_type": "code",
   "execution_count": 26,
   "id": "3b0344fa",
   "metadata": {},
   "outputs": [
    {
     "name": "stdout",
     "output_type": "stream",
     "text": [
      "<title itemprop=\"name\">IPL 2022 Live Cricket Score, Schedule, Latest News, Stats &amp; Videos | Cricbuzz.com</title>\n"
     ]
    }
   ],
   "source": [
    "ti = check_soup.title\n",
    "print(ti)"
   ]
  },
  {
   "cell_type": "markdown",
   "id": "e7e4006f",
   "metadata": {},
   "source": [
    "#### Commnly used types of objects\n",
    "1. Tag\n",
    "2. NavigableString\n",
    "3. BeautifulSoup\n",
    "4. Comment"
   ]
  },
  {
   "cell_type": "code",
   "execution_count": 13,
   "id": "80e64957",
   "metadata": {},
   "outputs": [
    {
     "name": "stdout",
     "output_type": "stream",
     "text": [
      "<class 'bs4.BeautifulSoup'>\n"
     ]
    }
   ],
   "source": [
    "print(type(soup))"
   ]
  },
  {
   "cell_type": "code",
   "execution_count": 27,
   "id": "f0c57ccb",
   "metadata": {},
   "outputs": [
    {
     "name": "stdout",
     "output_type": "stream",
     "text": [
      "<class 'bs4.BeautifulSoup'>\n"
     ]
    }
   ],
   "source": [
    "print(type(check_soup))"
   ]
  },
  {
   "cell_type": "code",
   "execution_count": 14,
   "id": "2e3fe70f",
   "metadata": {},
   "outputs": [
    {
     "name": "stdout",
     "output_type": "stream",
     "text": [
      "<class 'bs4.element.Tag'>\n"
     ]
    }
   ],
   "source": [
    "print(type(title))"
   ]
  },
  {
   "cell_type": "code",
   "execution_count": 31,
   "id": "5969dc29",
   "metadata": {},
   "outputs": [
    {
     "name": "stdout",
     "output_type": "stream",
     "text": [
      "<class 'bs4.element.Tag'>\n"
     ]
    }
   ],
   "source": [
    "print(type(ti))"
   ]
  },
  {
   "cell_type": "code",
   "execution_count": 15,
   "id": "afd46fe0",
   "metadata": {},
   "outputs": [
    {
     "name": "stdout",
     "output_type": "stream",
     "text": [
      "<class 'bs4.element.NavigableString'>\n"
     ]
    }
   ],
   "source": [
    "print(type(title.string))"
   ]
  },
  {
   "cell_type": "markdown",
   "id": "0a17283c",
   "metadata": {},
   "source": [
    "#### Get all the paragraphs from the page"
   ]
  },
  {
   "cell_type": "code",
   "execution_count": 32,
   "id": "b6c25d68",
   "metadata": {},
   "outputs": [],
   "source": [
    "paras = soup.find_all('p')\n",
    "# find all the paragraphs"
   ]
  },
  {
   "cell_type": "code",
   "execution_count": 33,
   "id": "0a9781c4",
   "metadata": {},
   "outputs": [],
   "source": [
    "#print(paras)"
   ]
  },
  {
   "cell_type": "code",
   "execution_count": 34,
   "id": "ccfcc50f",
   "metadata": {},
   "outputs": [
    {
     "name": "stdout",
     "output_type": "stream",
     "text": [
      "[<p class=\"cb-srch-suggest-content-title\" ng-bind-html=\"suggest | searchfilter:oldText\"></p>, <p class=\"cb-srch-suggest-content-subtitle cb-font-12 cb-text-gray\">{{suggest.tag}}</p>, <p class=\"cb-srch-suggest-content-title\">Search for “<span ng-bind=\"searchText\"></span>”</p>]\n"
     ]
    }
   ],
   "source": [
    "pa = check_soup.find_all('p')\n",
    "print(pa)"
   ]
  },
  {
   "cell_type": "markdown",
   "id": "7709bc99",
   "metadata": {},
   "source": [
    "#### Get all the anchors tags from the page"
   ]
  },
  {
   "cell_type": "code",
   "execution_count": 20,
   "id": "2c85d0cf",
   "metadata": {},
   "outputs": [],
   "source": [
    "anchors = soup.find_all('a')"
   ]
  },
  {
   "cell_type": "code",
   "execution_count": 38,
   "id": "857fb1df",
   "metadata": {},
   "outputs": [],
   "source": [
    "#print(anchors)"
   ]
  },
  {
   "cell_type": "code",
   "execution_count": 35,
   "id": "ba78cc74",
   "metadata": {},
   "outputs": [],
   "source": [
    "anc = check_soup.find_all('a')"
   ]
  },
  {
   "cell_type": "code",
   "execution_count": 37,
   "id": "3e4260a3",
   "metadata": {},
   "outputs": [],
   "source": [
    "#print(anc)"
   ]
  },
  {
   "cell_type": "code",
   "execution_count": 45,
   "id": "2a825bc9",
   "metadata": {},
   "outputs": [
    {
     "name": "stdout",
     "output_type": "stream",
     "text": [
      "['cb-srch-suggest-content-title']\n"
     ]
    }
   ],
   "source": [
    "print(check_soup.find('p')['class'])\n",
    "# find first paragraph"
   ]
  },
  {
   "cell_type": "markdown",
   "id": "5d061a13",
   "metadata": {},
   "source": [
    "#### Get first element in the HTML page"
   ]
  },
  {
   "cell_type": "code",
   "execution_count": 52,
   "id": "11b82952",
   "metadata": {},
   "outputs": [
    {
     "name": "stdout",
     "output_type": "stream",
     "text": [
      "<p class=\"mt-2 text-sm text-gray-500 md:text-base\">Confused on which course to take? I have got you covered. Browse courses and find out the best course for you. Its free! Code With Harry is my attempt to teach basics and those coding techniques to people in short time which took me ages to learn.</p>\n"
     ]
    }
   ],
   "source": [
    "print(soup.find('p'))"
   ]
  },
  {
   "cell_type": "markdown",
   "id": "5021755a",
   "metadata": {},
   "source": [
    "#### Get classes on any element in the HTML page"
   ]
  },
  {
   "cell_type": "code",
   "execution_count": 51,
   "id": "d6dc793c",
   "metadata": {},
   "outputs": [
    {
     "name": "stdout",
     "output_type": "stream",
     "text": [
      "['mt-2', 'text-sm', 'text-gray-500', 'md:text-base']\n"
     ]
    }
   ],
   "source": [
    "print(soup.find('p')['class'])"
   ]
  },
  {
   "cell_type": "code",
   "execution_count": 53,
   "id": "b0d82198",
   "metadata": {},
   "outputs": [
    {
     "name": "stdout",
     "output_type": "stream",
     "text": [
      "['cb-srch-suggest-content-title']\n"
     ]
    }
   ],
   "source": [
    "print(check_soup.find('p')['class'])"
   ]
  },
  {
   "cell_type": "markdown",
   "id": "e34936cb",
   "metadata": {},
   "source": [
    "#### Find all the elements with class lead"
   ]
  },
  {
   "cell_type": "code",
   "execution_count": 58,
   "id": "eadf6987",
   "metadata": {},
   "outputs": [],
   "source": [
    "# print(soup.findall(\"p\",class_ \"lead\"))"
   ]
  },
  {
   "cell_type": "markdown",
   "id": "2e805b4e",
   "metadata": {},
   "source": [
    "#### Get the text from the tags/soup"
   ]
  },
  {
   "cell_type": "code",
   "execution_count": 59,
   "id": "65210d12",
   "metadata": {},
   "outputs": [
    {
     "name": "stdout",
     "output_type": "stream",
     "text": [
      "Confused on which course to take? I have got you covered. Browse courses and find out the best course for you. Its free! Code With Harry is my attempt to teach basics and those coding techniques to people in short time which took me ages to learn.\n"
     ]
    }
   ],
   "source": [
    "print(soup.find('p').get_text())"
   ]
  },
  {
   "cell_type": "code",
   "execution_count": 62,
   "id": "52a2b054",
   "metadata": {},
   "outputs": [
    {
     "name": "stdout",
     "output_type": "stream",
     "text": [
      "\n"
     ]
    }
   ],
   "source": [
    "print(check_soup.find(\"p\").get_text())"
   ]
  },
  {
   "cell_type": "code",
   "execution_count": 64,
   "id": "fc0fe926",
   "metadata": {},
   "outputs": [],
   "source": [
    "#print(check_soup.get_text())"
   ]
  },
  {
   "cell_type": "markdown",
   "id": "99b7a5e5",
   "metadata": {},
   "source": [
    "#### Get all the links on the page"
   ]
  },
  {
   "cell_type": "code",
   "execution_count": 74,
   "id": "b7293884",
   "metadata": {},
   "outputs": [],
   "source": [
    "anchors = soup.find_all('a')\n",
    "#print(anchors)\n",
    "# links are stored in anchors"
   ]
  },
  {
   "cell_type": "code",
   "execution_count": 118,
   "id": "e7d42461",
   "metadata": {},
   "outputs": [],
   "source": [
    "all_links = set()\n",
    "# to get only unique links since we could face the duplicates"
   ]
  },
  {
   "cell_type": "code",
   "execution_count": 119,
   "id": "ea38ecc4",
   "metadata": {},
   "outputs": [
    {
     "name": "stdout",
     "output_type": "stream",
     "text": [
      "http://codewithharry.com/\n",
      "http://codewithharry.com/\n",
      "http://codewithharry.com/videos/\n",
      "http://codewithharry.com/tutorial/html-home/\n",
      "http://codewithharry.com/blogs/\n",
      "http://codewithharry.com/contact/\n",
      "http://codewithharry.com/tutorial/html-home/\n",
      "http://codewithharry.com/tutorial/css-home/\n",
      "http://codewithharry.com/tutorial/js/\n",
      "http://codewithharry.com/tutorial/c/\n",
      "http://codewithharry.com/tutorial/cplusplus/\n",
      "http://codewithharry.com/tutorial/java/\n",
      "http://codewithharry.com/tutorial/python/\n",
      "http://codewithharry.com/tutorial/tailwind/\n",
      "http://codewithharry.com/tutorial/reactjs/\n",
      "http://codewithharry.com/tutorial/nextjs/\n",
      "http://codewithharry.com/\n",
      "http://codewithharry.com/videos/\n",
      "http://codewithharry.com/tutorial/html-home/\n",
      "http://codewithharry.com/tutorial/css-home/\n",
      "http://codewithharry.com/tutorial/js/\n",
      "http://codewithharry.com/tutorial/c/\n",
      "http://codewithharry.com/tutorial/cplusplus/\n",
      "http://codewithharry.com/tutorial/java/\n",
      "http://codewithharry.com/tutorial/python/\n",
      "http://codewithharry.com/tutorial/tailwind/\n",
      "http://codewithharry.com/tutorial/reactjs/\n",
      "http://codewithharry.com/tutorial/nextjs/\n",
      "http://codewithharry.com/blogs/\n",
      "http://codewithharry.com/contact/\n",
      "http://codewithharry.com/work/\n",
      "http://codewithharry.comhttps://www.facebook.com/codewithharry\n",
      "http://codewithharry.comhttps://www.twitter.com/codewithharry\n",
      "http://codewithharry.comhttps://www.instagram.com/codewithharry\n",
      "http://codewithharry.comhttps://www.github.com/codewithharry\n"
     ]
    }
   ],
   "source": [
    "for link in anchors:\n",
    "    if(link.get('href')!='#'):\n",
    "        linktext = \"http://codewithharry.com\" + link.get('href')\n",
    "        all_links.add(linktext)\n",
    "        print(linktext)"
   ]
  },
  {
   "cell_type": "code",
   "execution_count": 73,
   "id": "12d410c1",
   "metadata": {},
   "outputs": [],
   "source": [
    "# Similarily find all the links available in cricbuz"
   ]
  },
  {
   "cell_type": "code",
   "execution_count": 101,
   "id": "c08e7b3d",
   "metadata": {},
   "outputs": [],
   "source": [
    "#step 1: find all the anchors:\n",
    "an = check_soup.find_all('a')"
   ]
  },
  {
   "cell_type": "code",
   "execution_count": 122,
   "id": "765a0294",
   "metadata": {},
   "outputs": [],
   "source": [
    "# print(an)"
   ]
  },
  {
   "cell_type": "code",
   "execution_count": 116,
   "id": "aedddc69",
   "metadata": {},
   "outputs": [],
   "source": [
    "#step 2:\n",
    "# write an iterate\n",
    "cd_text = set()"
   ]
  },
  {
   "cell_type": "code",
   "execution_count": null,
   "id": "28dae291",
   "metadata": {},
   "outputs": [],
   "source": [
    "for x in an:\n",
    "    if(x.get(\"href\")!='#'):\n",
    "        cd_text.add(x.get('href'))\n",
    "        print(cd_text)"
   ]
  },
  {
   "cell_type": "code",
   "execution_count": null,
   "id": "9d63c482",
   "metadata": {},
   "outputs": [],
   "source": []
  }
 ],
 "metadata": {
  "kernelspec": {
   "display_name": "Python 3 (ipykernel)",
   "language": "python",
   "name": "python3"
  },
  "language_info": {
   "codemirror_mode": {
    "name": "ipython",
    "version": 3
   },
   "file_extension": ".py",
   "mimetype": "text/x-python",
   "name": "python",
   "nbconvert_exporter": "python",
   "pygments_lexer": "ipython3",
   "version": "3.9.12"
  }
 },
 "nbformat": 4,
 "nbformat_minor": 5
}
